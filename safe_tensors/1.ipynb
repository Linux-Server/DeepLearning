{
 "cells": [
  {
   "cell_type": "code",
   "execution_count": 51,
   "metadata": {},
   "outputs": [
    {
     "data": {
      "text/plain": [
       "'2.6.0'"
      ]
     },
     "execution_count": 51,
     "metadata": {},
     "output_type": "execute_result"
    }
   ],
   "source": [
    "import torch\n",
    "\n",
    "torch.__version__"
   ]
  },
  {
   "cell_type": "code",
   "execution_count": 70,
   "metadata": {},
   "outputs": [],
   "source": [
    "from pathlib import Path\n",
    "from PIL import Image\n",
    "import numpy as np\n",
    "import torch\n",
    "import requests\n",
    "from io import BytesIO\n",
    "from torchvision.models import resnet18, ResNet18_Weights\n",
    "\n",
    "# Load class names\n",
    "with open(\"class_names.txt\", \"r\") as f:\n",
    "    class_names = [line.strip() for line in f.readlines()]\n",
    "\n",
    "def predict(img_path: str = None) -> str:\n",
    "    # Initialize the model and transform\n",
    "    resnet_model = resnet18(weights=ResNet18_Weights.DEFAULT)\n",
    "    resnet_transform = ResNet18_Weights.DEFAULT.transforms()\n",
    "\n",
    "    # Load the image\n",
    "    if img_path is None:\n",
    "        image = Image.open(\"images/steak.jpeg\").convert(\"RGB\")\n",
    "    elif img_path.startswith(\"http\"):\n",
    "        response = requests.get(img_path, stream=True)\n",
    "        image = Image.open(BytesIO(response.content)).convert(\"RGB\")\n",
    "    else:\n",
    "        image = Image.open(Path(img_path)).convert(\"RGB\")\n",
    "\n",
    "    # Convert to tensor\n",
    "    img = torch.from_numpy(np.array(image)).permute(2, 0, 1)\n",
    "    img = resnet_transform(img)\n",
    "\n",
    "    # Inference\n",
    "    resnet_model.eval()\n",
    "    with torch.inference_mode():\n",
    "        logits = resnet_model(img.unsqueeze(0))\n",
    "        pred_class = torch.softmax(logits, dim=1).argmax(dim=1).item()\n",
    "        predicted_label = class_names[pred_class]\n",
    "        print(f\"Predicted class: {predicted_label}\")\n",
    "        return predicted_label\n"
   ]
  },
  {
   "cell_type": "code",
   "execution_count": 71,
   "metadata": {},
   "outputs": [
    {
     "name": "stdout",
     "output_type": "stream",
     "text": [
      "Predicted class: teddy\n"
     ]
    },
    {
     "data": {
      "text/plain": [
       "'teddy'"
      ]
     },
     "execution_count": 71,
     "metadata": {},
     "output_type": "execute_result"
    }
   ],
   "source": [
    "predict(\"https://m.media-amazon.com/images/I/41ypb39SsSL._AC_UF1000,1000_QL80_.jpg\")"
   ]
  },
  {
   "cell_type": "code",
   "execution_count": 108,
   "metadata": {},
   "outputs": [
    {
     "name": "stdout",
     "output_type": "stream",
     "text": [
      "tensor([[0.8823, 0.9150, 0.3829],\n",
      "        [0.9593, 0.3904, 0.6009]])\n"
     ]
    },
    {
     "data": {
      "text/plain": [
       "tensor([[-0.1664],\n",
       "        [-0.2550]], grad_fn=<AddmmBackward0>)"
      ]
     },
     "execution_count": 108,
     "metadata": {},
     "output_type": "execute_result"
    }
   ],
   "source": [
    "from safetensors.torch import save_file\n",
    "import torch\n",
    "from torch import nn\n",
    "torch.manual_seed(42)\n",
    "\n",
    "class MyModel(nn.Module):\n",
    "    def __init__(self):\n",
    "        super().__init__()\n",
    "        self.linear = nn.Linear(in_features=3, out_features=1)\n",
    "    \n",
    "    def forward(self, x):\n",
    "        return self.linear(x)\n",
    "\n",
    "\n",
    "\n",
    "inp = torch.rand(size=(2,3))\n",
    "print(inp)\n",
    "model = MyModel()\n",
    "model(inp)\n"
   ]
  },
  {
   "cell_type": "code",
   "execution_count": 111,
   "metadata": {},
   "outputs": [
    {
     "data": {
      "text/plain": [
       "OrderedDict([('linear.weight', tensor([[-0.2811,  0.3391,  0.5090]])),\n",
       "             ('linear.bias', tensor([-0.4236]))])"
      ]
     },
     "execution_count": 111,
     "metadata": {},
     "output_type": "execute_result"
    }
   ],
   "source": [
    "model.state_dict()"
   ]
  },
  {
   "cell_type": "code",
   "execution_count": 114,
   "metadata": {},
   "outputs": [],
   "source": [
    "from safetensors.torch import save_file\n",
    "\n",
    "save_file(model.state_dict(), \"model.safetensors\")"
   ]
  },
  {
   "cell_type": "code",
   "execution_count": 121,
   "metadata": {},
   "outputs": [
    {
     "data": {
      "text/plain": [
       "OrderedDict([('linear.weight', tensor([[-0.1630, -0.3471,  0.0545]])),\n",
       "             ('linear.bias', tensor([-0.5702]))])"
      ]
     },
     "execution_count": 121,
     "metadata": {},
     "output_type": "execute_result"
    }
   ],
   "source": [
    "test_model  = MyModel()\n",
    "\n",
    "test_model.state_dict()"
   ]
  },
  {
   "cell_type": "code",
   "execution_count": 123,
   "metadata": {},
   "outputs": [
    {
     "data": {
      "text/plain": [
       "{'linear.bias': tensor([-0.4236]),\n",
       " 'linear.weight': tensor([[-0.2811,  0.3391,  0.5090]])}"
      ]
     },
     "execution_count": 123,
     "metadata": {},
     "output_type": "execute_result"
    }
   ],
   "source": [
    "from safetensors.torch import load_file\n",
    "\n",
    "weights = load_file(\"./model.safetensors\")\n",
    "weights"
   ]
  },
  {
   "cell_type": "code",
   "execution_count": 127,
   "metadata": {},
   "outputs": [
    {
     "data": {
      "text/plain": [
       "<All keys matched successfully>"
      ]
     },
     "execution_count": 127,
     "metadata": {},
     "output_type": "execute_result"
    }
   ],
   "source": [
    "test_model.load_state_dict(weights)"
   ]
  },
  {
   "cell_type": "code",
   "execution_count": 129,
   "metadata": {},
   "outputs": [
    {
     "data": {
      "text/plain": [
       "OrderedDict([('linear.weight', tensor([[-0.2811,  0.3391,  0.5090]])),\n",
       "             ('linear.bias', tensor([-0.4236]))])"
      ]
     },
     "execution_count": 129,
     "metadata": {},
     "output_type": "execute_result"
    }
   ],
   "source": [
    "test_model.state_dict()"
   ]
  },
  {
   "cell_type": "code",
   "execution_count": null,
   "metadata": {},
   "outputs": [],
   "source": []
  }
 ],
 "metadata": {
  "kernelspec": {
   "display_name": "transformers",
   "language": "python",
   "name": "python3"
  },
  "language_info": {
   "codemirror_mode": {
    "name": "ipython",
    "version": 3
   },
   "file_extension": ".py",
   "mimetype": "text/x-python",
   "name": "python",
   "nbconvert_exporter": "python",
   "pygments_lexer": "ipython3",
   "version": "3.13.1"
  }
 },
 "nbformat": 4,
 "nbformat_minor": 2
}
